{
 "cells": [
  {
   "cell_type": "markdown",
   "metadata": {},
   "source": [
    "### Source: https://colab.research.google.com/drive/1Ys44kVvmeZtnICzWz0xgpRnrIOjZAuxp?usp=sharing#scrollTo=2eSvM9zX_2d3\n",
    "#### gemma-llama kernel on quadro"
   ]
  },
  {
   "cell_type": "code",
   "execution_count": null,
   "metadata": {},
   "outputs": [],
   "source": [
    "# # Installs Unsloth, Xformers (Flash Attention) and all other packages!\n",
    "# # !pip install \"unsloth[colab-new] @ git+https://github.com/unslothai/unsloth.git\"\n",
    "# # !pip install --no-deps xformers \"trl<0.9.0\" peft accelerate bitsandbytes\n",
    "\n",
    "# !pip install unsloth\n",
    "# # Also get the latest nightly Unsloth!\n",
    "# !pip uninstall unsloth -y && pip install --upgrade --no-cache-dir \"unsloth[colab-new] @ git+https://github.com/unslothai/unsloth.git\""
   ]
  },
  {
   "cell_type": "code",
   "execution_count": 3,
   "metadata": {},
   "outputs": [],
   "source": [
    "# # from unsloth import FastLanguageModel\n",
    "# # import torch\n",
    "# # max_seq_length = 2048 # Choose any! We auto support RoPE Scaling internally!\n",
    "# # dtype = None # None for auto detection. Float16 for Tesla T4, V100, Bfloat16 for Ampere+\n",
    "# # load_in_4bit = True # Use 4bit quantization to reduce memory usage. Can be False.\n",
    "\n",
    "# # # 4bit pre quantized models we support for 4x faster downloading + no OOMs.\n",
    "# # fourbit_models = [\n",
    "# #     \"unsloth/mistral-7b-v0.3-bnb-4bit\",      # New Mistral v3 2x faster!\n",
    "# #     \"unsloth/mistral-7b-instruct-v0.3-bnb-4bit\",\n",
    "# #     \"unsloth/llama-3-8b-bnb-4bit\",           # Llama-3 15 trillion tokens model 2x faster!\n",
    "# #     \"unsloth/llama-3-8b-Instruct-bnb-4bit\",\n",
    "# #     \"unsloth/llama-3-70b-bnb-4bit\",\n",
    "# #     \"unsloth/Phi-3-mini-4k-instruct\",        # Phi-3 2x faster!\n",
    "# #     \"unsloth/Phi-3-medium-4k-instruct\",\n",
    "# #     \"unsloth/mistral-7b-bnb-4bit\",\n",
    "# #     \"unsloth/gemma-7b-bnb-4bit\",             # Gemma 2.2x faster!\n",
    "# # ] # More models at https://huggingface.co/unsloth\n",
    "\n",
    "# # model, tokenizer = FastLanguageModel.from_pretrained(\n",
    "# #     model_name = \"unsloth/llama-3-8b-Instruct-bnb-4bit\",\n",
    "# #     max_seq_length = max_seq_length,\n",
    "# #     dtype = dtype,\n",
    "# #     load_in_4bit = load_in_4bit,\n",
    "# #     # token = \"hf_...\", # use one if using gated models like meta-llama/Llama-2-7b-hf\n",
    "# # )\n",
    "\n",
    "\n",
    "# from unsloth import FastLanguageModel\n",
    "# import torch\n",
    "# max_seq_length = 2048 # Choose any! We auto support RoPE Scaling internally!\n",
    "# dtype = None # None for auto detection. Float16 for Tesla T4, V100, Bfloat16 for Ampere+\n",
    "# load_in_4bit = True # Use 4bit quantization to reduce memory usage. Can be False.\n",
    "\n",
    "# # 4bit pre quantized models we support for 4x faster downloading + no OOMs.\n",
    "# fourbit_models = [\n",
    "#     \"unsloth/Meta-Llama-3.1-8B-bnb-4bit\",      # Llama-3.1 15 trillion tokens model 2x faster!\n",
    "#     \"unsloth/Meta-Llama-3.1-8B-Instruct-bnb-4bit\",\n",
    "#     \"unsloth/Meta-Llama-3.1-70B-bnb-4bit\",\n",
    "#     \"unsloth/Meta-Llama-3.1-405B-bnb-4bit\",    # We also uploaded 4bit for 405b!\n",
    "#     \"unsloth/Mistral-Nemo-Base-2407-bnb-4bit\", # New Mistral 12b 2x faster!\n",
    "#     \"unsloth/Mistral-Nemo-Instruct-2407-bnb-4bit\",\n",
    "#     \"unsloth/mistral-7b-v0.3-bnb-4bit\",        # Mistral v3 2x faster!\n",
    "#     \"unsloth/mistral-7b-instruct-v0.3-bnb-4bit\",\n",
    "#     \"unsloth/Phi-3.5-mini-instruct\",           # Phi-3.5 2x faster!\n",
    "#     \"unsloth/Phi-3-medium-4k-instruct\",\n",
    "#     \"unsloth/gemma-2-9b-bnb-4bit\",\n",
    "#     \"unsloth/gemma-2-27b-bnb-4bit\",            # Gemma 2x faster!\n",
    "# ] # More models at https://huggingface.co/unsloth\n"
   ]
  },
  {
   "cell_type": "code",
   "execution_count": null,
   "metadata": {},
   "outputs": [],
   "source": [
    "# model, tokenizer = FastLanguageModel.from_pretrained(\n",
    "#     model_name = \"unsloth/Llama-3.2-3B-Instruct\",\n",
    "#     max_seq_length = max_seq_length,\n",
    "#     dtype = dtype,\n",
    "#     load_in_4bit = load_in_4bit,\n",
    "#     # token = \"hf_...\", # use one if using gated models like meta-llama/Llama-2-7b-hf\n",
    "# )"
   ]
  },
  {
   "cell_type": "code",
   "execution_count": null,
   "metadata": {},
   "outputs": [],
   "source": [
    "# model = FastLanguageModel.get_peft_model(\n",
    "#     model,\n",
    "#     r = 16, # Choose any number > 0 ! Suggested 8, 16, 32, 64, 128\n",
    "#     target_modules = [\"q_proj\", \"k_proj\", \"v_proj\", \"o_proj\",\n",
    "#                       \"gate_proj\", \"up_proj\", \"down_proj\",],\n",
    "#     lora_alpha = 16,\n",
    "#     lora_dropout = 0, # Supports any, but = 0 is optimized\n",
    "#     bias = \"none\",    # Supports any, but = \"none\" is optimized\n",
    "#     # [NEW] \"unsloth\" uses 30% less VRAM, fits 2x larger batch sizes!\n",
    "#     use_gradient_checkpointing = \"unsloth\", # True or \"unsloth\" for very long context\n",
    "#     random_state = 3407,\n",
    "#     use_rslora = False,  # We support rank stabilized LoRA\n",
    "#     loftq_config = None, # And LoftQ\n",
    "# )"
   ]
  },
  {
   "cell_type": "code",
   "execution_count": 4,
   "metadata": {},
   "outputs": [],
   "source": [
    "# # assuming the dataset already in instruction, input, output format\n",
    "\n",
    "# alpaca_prompt = \"\"\"Below is an instruction that describes a task, paired with an input that provides further context. Write a response that appropriately completes the request.\n",
    "\n",
    "# ### Instruction:\n",
    "# {}\n",
    "\n",
    "# ### Input:\n",
    "# {}\n",
    "\n",
    "# ### Response:\n",
    "# {}\"\"\"\n",
    "\n",
    "# EOS_TOKEN = tokenizer.eos_token # Must add EOS_TOKEN\n",
    "# def formatting_prompts_func(examples):\n",
    "#     instructions = examples[\"instruction\"]\n",
    "#     inputs       = examples[\"input\"]\n",
    "#     outputs      = examples[\"output\"]\n",
    "#     texts = []\n",
    "#     for instruction, input, output in zip(instructions, inputs, outputs):\n",
    "#         # Must add EOS_TOKEN, otherwise your generation will go on forever!\n",
    "#         text = alpaca_prompt.format(instruction, input, output) + EOS_TOKEN\n",
    "#         texts.append(text)\n",
    "#     return { \"text\" : texts, }\n",
    "\n",
    "\n",
    "# from datasets import load_dataset\n",
    "# dataset = load_dataset(\"json\", data_files= \"../../Axolotl/axolotl/Comment_Generation/train.jsonl\")\n",
    "# dataset = dataset.map(formatting_prompts_func, batched = True,)"
   ]
  },
  {
   "cell_type": "code",
   "execution_count": 5,
   "metadata": {},
   "outputs": [],
   "source": [
    "# import os\n",
    "# wandb_project = \"unsloth-llama3.2-five-epochs-review\"\n",
    "# if len(wandb_project) > 0:\n",
    "#     os.environ[\"WANDB_PROJECT\"] = wandb_project\n"
   ]
  },
  {
   "cell_type": "markdown",
   "metadata": {},
   "source": [
    "### num_train_epochs=1, and max_steps can be set None"
   ]
  },
  {
   "cell_type": "code",
   "execution_count": 6,
   "metadata": {},
   "outputs": [],
   "source": [
    "# from trl import SFTTrainer\n",
    "# from transformers import TrainingArguments\n",
    "# from unsloth import is_bfloat16_supported\n",
    "\n",
    "# trainer = SFTTrainer(\n",
    "#     model = model,\n",
    "#     tokenizer = tokenizer,\n",
    "#     train_dataset = dataset['train'],\n",
    "#     dataset_text_field = \"text\",\n",
    "#     max_seq_length = max_seq_length,\n",
    "#     dataset_num_proc = 2,\n",
    "#     packing = False, # Can make training 5x faster for short sequences.\n",
    "#     args = TrainingArguments(\n",
    "#         per_device_train_batch_size = 2,\n",
    "#         gradient_accumulation_steps = 4,\n",
    "#         warmup_steps = 500,\n",
    "#         # max_steps = \"None\",\n",
    "#         learning_rate = 2e-4,\n",
    "#         fp16 = not is_bfloat16_supported(),\n",
    "#         bf16 = is_bfloat16_supported(),\n",
    "#         logging_steps = 1000,\n",
    "#         optim = \"adamw_8bit\",\n",
    "#         weight_decay = 0.01,\n",
    "#         lr_scheduler_type = \"linear\",\n",
    "#         seed = 3407,\n",
    "#         output_dir = \"qlora-llama3.2-five-epochs-review\",\n",
    "#         num_train_epochs=5,\n",
    "#         report_to=\"wandb\",\n",
    "#         save_steps=10000,\n",
    "#     ),\n",
    "# )"
   ]
  },
  {
   "cell_type": "code",
   "execution_count": null,
   "metadata": {},
   "outputs": [],
   "source": [
    "# # Show current memory stat before training\n",
    "# gpu_stats = torch.cuda.get_device_properties(0)\n",
    "# start_gpu_memory = round(torch.cuda.max_memory_reserved() / 1024 / 1024 / 1024, 3)\n",
    "# max_memory = round(gpu_stats.total_memory / 1024 / 1024 / 1024, 3)\n",
    "# print(f\"GPU = {gpu_stats.name}. Max memory = {max_memory} GB.\")\n",
    "# print(f\"{start_gpu_memory} GB of memory reserved.\")"
   ]
  },
  {
   "cell_type": "code",
   "execution_count": 8,
   "metadata": {},
   "outputs": [],
   "source": [
    "# check wandb login, use wandb login --relogin if needed"
   ]
  },
  {
   "cell_type": "code",
   "execution_count": null,
   "metadata": {},
   "outputs": [],
   "source": [
    "# trainer_stats = trainer.train()"
   ]
  },
  {
   "cell_type": "code",
   "execution_count": null,
   "metadata": {},
   "outputs": [],
   "source": [
    "# # title Show final memory and time stats\n",
    "# used_memory = round(torch.cuda.max_memory_reserved() / 1024 / 1024 / 1024, 3)\n",
    "# used_memory_for_lora = round(used_memory - start_gpu_memory, 3)\n",
    "# used_percentage = round(used_memory         /max_memory*100, 3)\n",
    "# lora_percentage = round(used_memory_for_lora/max_memory*100, 3)\n",
    "# print(f\"{trainer_stats.metrics['train_runtime']} seconds used for training.\")\n",
    "# print(f\"{round(trainer_stats.metrics['train_runtime']/60, 2)} minutes used for training.\")\n",
    "# print(f\"Peak reserved memory = {used_memory} GB.\")\n",
    "# print(f\"Peak reserved memory for training = {used_memory_for_lora} GB.\")\n",
    "# print(f\"Peak reserved memory % of max memory = {used_percentage} %.\")\n",
    "# print(f\"Peak reserved memory for training % of max memory = {lora_percentage} %.\")"
   ]
  },
  {
   "cell_type": "code",
   "execution_count": null,
   "metadata": {},
   "outputs": [],
   "source": [
    "# test_file = \"../../Axolotl/axolotl/Comment_Generation/test.jsonl\"\n",
    "# test_dataset = load_dataset(\"json\", data_files= test_file)"
   ]
  },
  {
   "cell_type": "code",
   "execution_count": null,
   "metadata": {},
   "outputs": [],
   "source": [
    "# test_dataset"
   ]
  },
  {
   "cell_type": "code",
   "execution_count": null,
   "metadata": {},
   "outputs": [],
   "source": [
    "# test_dataset['train'][0]"
   ]
  },
  {
   "cell_type": "code",
   "execution_count": null,
   "metadata": {},
   "outputs": [],
   "source": [
    "# # inference example\n",
    "# # alpaca_prompt = Copied from above\n",
    "# FastLanguageModel.for_inference(model) # Enable native 2x faster inference\n",
    "# inputs = tokenizer(\n",
    "# [\n",
    "#     alpaca_prompt.format(\n",
    "#         # \"Continue the fibonnaci sequence.\", # instruction\n",
    "#         # \"1, 1, 2, 3, 5, 8\", # input\n",
    "#         # \"\", # output - leave this blank for generation!\n",
    "#         test_dataset['train']['instruction'][0],\n",
    "#         test_dataset['train']['input'][0],\n",
    "#         \"\",\n",
    "#     )\n",
    "# ], return_tensors = \"pt\").to(\"cuda:2\")\n",
    "\n",
    "# outputs = model.generate(**inputs, max_new_tokens = 100, use_cache = True)\n",
    "# tokenizer.batch_decode(outputs)"
   ]
  },
  {
   "cell_type": "code",
   "execution_count": null,
   "metadata": {},
   "outputs": [],
   "source": [
    "# model.save_pretrained(\"qlora-llama3.2-five-epochs-review\") # Local saving\n",
    "# tokenizer.save_pretrained(\"qlora-llama3.2-five-epochs-review\")"
   ]
  },
  {
   "cell_type": "markdown",
   "metadata": {},
   "source": [
    "### Inference"
   ]
  },
  {
   "cell_type": "code",
   "execution_count": 5,
   "metadata": {},
   "outputs": [
    {
     "name": "stdout",
     "output_type": "stream",
     "text": [
      "==((====))==  Unsloth 2024.10.3: Fast Llama patching. Transformers = 4.44.2.\n",
      "   \\\\   /|    GPU: Quadro RTX 5000. Max memory: 15.56 GB. Platform = Linux.\n",
      "O^O/ \\_/ \\    Pytorch: 2.4.1+cu121. CUDA = 7.5. CUDA Toolkit = 12.1.\n",
      "\\        /    Bfloat16 = FALSE. FA [Xformers = 0.0.28.post1. FA2 = False]\n",
      " \"-____-\"     Free Apache license: http://github.com/unslothai/unsloth\n"
     ]
    },
    {
     "name": "stderr",
     "output_type": "stream",
     "text": [
      "Unsloth: We fixed a gradient accumulation bug, but it seems like you don't have the latest transformers version!\n",
      "Please update transformers via:\n",
      "`pip uninstall transformers -y && pip install --upgrade --no-cache-dir \"git+https://github.com/huggingface/transformers.git\"`\n",
      "Unsloth 2024.10.3 patched 32 layers with 32 QKV layers, 32 O layers and 32 MLP layers.\n"
     ]
    }
   ],
   "source": [
    "if True:\n",
    "    from unsloth import FastLanguageModel\n",
    "    model, tokenizer = FastLanguageModel.from_pretrained(\n",
    "        model_name = \"qlora-llama3.2-five-epochs-review\", # \"lora_model_test\", # YOUR MODEL YOU USED FOR TRAINING\n",
    "        max_seq_length = max_seq_length,\n",
    "        dtype = dtype,\n",
    "        load_in_4bit = load_in_4bit,\n",
    "    )\n",
    "    FastLanguageModel.for_inference(model) # Enable native 2x faster inference\n",
    "\n",
    "# alpaca_prompt = You MUST copy from above!"
   ]
  },
  {
   "cell_type": "code",
   "execution_count": 9,
   "metadata": {},
   "outputs": [],
   "source": [
    "alpaca_prompt = \"\"\"Below is an instruction that describes a task, paired with an input that provides further context. Write a response that appropriately completes the request.\n",
    "\n",
    "### Instruction:\n",
    "{}\n",
    "\n",
    "### Input:\n",
    "{}\n",
    "\n",
    "### Response:\n",
    "{}\"\"\"\n",
    "\n",
    "EOS_TOKEN = tokenizer.eos_token # Must add EOS_TOKEN\n",
    "def formatting_prompts_func(examples):\n",
    "    instructions = examples[\"instruction\"]\n",
    "    inputs       = examples[\"input\"]\n",
    "    outputs      = examples[\"output\"]\n",
    "    texts = []\n",
    "    for instruction, input, output in zip(instructions, inputs, outputs):\n",
    "        # Must add EOS_TOKEN, otherwise your generation will go on forever!\n",
    "        text = alpaca_prompt.format(instruction, input, output) + EOS_TOKEN\n",
    "        texts.append(text)\n",
    "    return { \"text\" : texts, }\n"
   ]
  },
  {
   "cell_type": "code",
   "execution_count": 6,
   "metadata": {},
   "outputs": [],
   "source": [
    "import json\n",
    "# read the first 500 lines of the test data\n",
    "test_data_file_path = \"../../Llama/msg-test-5000-tuned.jsonl\"\n",
    "test_data = []\n",
    "with open(test_data_file_path, 'r') as f:\n",
    "    for i in range(5000): # 500\n",
    "        line = f.readline()\n",
    "        data = json.loads(line)\n",
    "        test_data.append(data)\n",
    "\n",
    "\n",
    "# write all the output part of the test data to a file as the gold for comparison\n",
    "gold_file_path = \"msg-5000-gold-5-epochs.txt\"\n",
    "with open(gold_file_path, 'w') as f:\n",
    "    for data in test_data:\n",
    "        # remove \"New Code: \" from the output\n",
    "        value = data['output'].replace(\"New Code: \", \"\")\n",
    "        f.write(value + \"\\n\")"
   ]
  },
  {
   "cell_type": "code",
   "execution_count": 7,
   "metadata": {},
   "outputs": [
    {
     "name": "stderr",
     "output_type": "stream",
     "text": [
      "Generating train split: 5000 examples [00:00, 241254.39 examples/s]\n"
     ]
    }
   ],
   "source": [
    "from datasets import load_dataset\n",
    "\n",
    "test_file = \"../../Llama/msg-test-5000-tuned.jsonl\"\n",
    "test_dataset = load_dataset(\"json\", data_files= test_file)"
   ]
  },
  {
   "cell_type": "code",
   "execution_count": 10,
   "metadata": {},
   "outputs": [],
   "source": [
    "for i in range(5000):\n",
    "    # inference example\n",
    "# alpaca_prompt = Copied from above\n",
    "    FastLanguageModel.for_inference(model) # Enable native 2x faster inference\n",
    "    inputs = tokenizer(\n",
    "    [\n",
    "        alpaca_prompt.format(\n",
    "            # \"Continue the fibonnaci sequence.\", # instruction\n",
    "            # \"1, 1, 2, 3, 5, 8\", # input\n",
    "            # \"\", # output - leave this blank for generation!\n",
    "            test_dataset['train']['instruction'][i],\n",
    "            test_dataset['train']['input'][i],\n",
    "            \"\",\n",
    "        )\n",
    "    ], return_tensors = \"pt\").to(\"cuda\")\n",
    "\n",
    "    outputs = model.generate(**inputs, max_new_tokens = 256, use_cache = True)\n",
    "    tokenizer.batch_decode(outputs)\n",
    "    # write the output to a file\n",
    "    with open(\"msg-5000-output-5-epochs.txt\", 'a') as f:\n",
    "        f.write(tokenizer.batch_decode(outputs)[0] + \"\\n\")"
   ]
  },
  {
   "cell_type": "markdown",
   "metadata": {},
   "source": [
    "### Must check with increased max_new_token!"
   ]
  },
  {
   "cell_type": "code",
   "execution_count": 7,
   "metadata": {},
   "outputs": [],
   "source": [
    "# write a code that checks the output file and retrieves all lines following ### Response:\\n\n",
    "# write the output to a new file\n",
    "output_file_path = \"msg-5000-pred-5-epochs.txt\"\n",
    "with open(\"msg-5000-output-5-epochs.txt\", 'r') as f:\n",
    "    lines = f.readlines()\n",
    "    with open(output_file_path, 'w') as f:\n",
    "        for i in range(len(lines)):\n",
    "            # if \"New Code:\" in lines[i]:\n",
    "            #     # write the next line trimming <|end_of_text|> from the end\n",
    "            #     f.write(lines[i][9:])\n",
    "            if \"### Response\" in lines[i]:\n",
    "                f.write(lines[i+1][:-16])\n",
    "                f.write(\"\\n\")"
   ]
  },
  {
   "cell_type": "code",
   "execution_count": null,
   "metadata": {},
   "outputs": [],
   "source": [
    "print(\"Done Training and Saving\")"
   ]
  }
 ],
 "metadata": {
  "kernelspec": {
   "display_name": "gemma_llama",
   "language": "python",
   "name": "python3"
  },
  "language_info": {
   "codemirror_mode": {
    "name": "ipython",
    "version": 3
   },
   "file_extension": ".py",
   "mimetype": "text/x-python",
   "name": "python",
   "nbconvert_exporter": "python",
   "pygments_lexer": "ipython3",
   "version": "3.10.14"
  }
 },
 "nbformat": 4,
 "nbformat_minor": 2
}
