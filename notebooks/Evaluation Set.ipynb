{
 "cells": [
  {
   "cell_type": "code",
   "id": "initial_id",
   "metadata": {
    "collapsed": true,
    "ExecuteTime": {
     "end_time": "2025-04-11T11:24:57.190995Z",
     "start_time": "2025-04-11T11:24:57.183674Z"
    }
   },
   "source": [
    "import pandas as pd\n",
    "from datasets import load_dataset\n"
   ],
   "outputs": [],
   "execution_count": 61
  },
  {
   "metadata": {
    "ExecuteTime": {
     "end_time": "2025-04-11T11:24:58.133234Z",
     "start_time": "2025-04-11T11:24:57.605973Z"
    }
   },
   "cell_type": "code",
   "source": [
    "test_name = \"test_500\"\n",
    "final_dataset = load_dataset(f\"dbaeka/soen_691_{test_name}_meta_set\")['test']"
   ],
   "id": "c8199bcb8979a98",
   "outputs": [],
   "execution_count": 62
  },
  {
   "metadata": {
    "ExecuteTime": {
     "end_time": "2025-04-11T11:24:58.152832Z",
     "start_time": "2025-04-11T11:24:58.134211Z"
    }
   },
   "cell_type": "code",
   "source": [
    "df = final_dataset.to_pandas()\n",
    "\n",
    "# Create BERT score bins\n",
    "quantiles = df[\"bert_score\"].quantile([0.33, 0.66])\n",
    "low_thresh, high_thresh = quantiles[0.33], quantiles[0.66]"
   ],
   "id": "d39654e1c47fdcf6",
   "outputs": [],
   "execution_count": 63
  },
  {
   "metadata": {
    "ExecuteTime": {
     "end_time": "2025-04-11T11:24:58.155543Z",
     "start_time": "2025-04-11T11:24:58.153384Z"
    }
   },
   "cell_type": "code",
   "source": [
    "def assign_quality(score):\n",
    "    if score <= low_thresh:\n",
    "        return \"low\"\n",
    "    elif score <= high_thresh:\n",
    "        return \"medium\"\n",
    "    else:\n",
    "        return \"high\""
   ],
   "id": "58e96303faf3e009",
   "outputs": [],
   "execution_count": 64
  },
  {
   "metadata": {
    "ExecuteTime": {
     "end_time": "2025-04-11T11:24:58.309367Z",
     "start_time": "2025-04-11T11:24:58.302625Z"
    }
   },
   "cell_type": "code",
   "source": [
    "df[\"bert_quality\"] = df[\"bert_score\"].apply(assign_quality)\n",
    "df.head()"
   ],
   "id": "f7e2e33f37f7057a",
   "outputs": [
    {
     "data": {
      "text/plain": [
       "               hash                                               gold  \\\n",
       "0  033b0baff52bb483  If there are no manifests, then entries should...   \n",
       "1  c1752542d5b833d3  Didn't went with backwards compatibility since...   \n",
       "2  7dc3d2474c83cca7            Is this actually a lint related change?   \n",
       "3  973d5f8f3c42730f  I don't know if there are strict conventions a...   \n",
       "4  9ef6bf7111827712           what to do if some failed? just logging?   \n",
       "\n",
       "                                                pred  \\\n",
       "0  The change gracefully handles the case where a...   \n",
       "1  The log message should include which collector...   \n",
       "2  The percent sign doesn't need to be escaped in...   \n",
       "3  The message doesn't explain why sys.exit() is ...   \n",
       "4  The error message should provide more context ...   \n",
       "\n",
       "                                                 cot  lang  \\\n",
       "0  This code change is addressing the case where ...  java   \n",
       "1  Let me analyze the code change:\\n\\n1. The meth...   .cs   \n",
       "2  In this code diff, a regex pattern is being mo...    js   \n",
       "3  I'm looking at a code review request for an ad...    py   \n",
       "4  The given code shows a change where a `CHECK_E...   cpp   \n",
       "\n",
       "                                             summary  bert_score  \\\n",
       "0            Collect all data files in the manifest.    0.849598   \n",
       "1  FailedToReachCollector - Method failed to reac...    0.830813   \n",
       "2  Creates all inputs of a block and removes all ...    0.855430   \n",
       "3  Uses the dict constructor a list of transient ...    0.840675   \n",
       "4  Clean expired hosts. expired hosts to offline ...    0.851026   \n",
       "\n",
       "                                               patch bert_quality  \n",
       "0  @@ -191,7 +191,10 @@ public class FindFiles {\\...       medium  \n",
       "1  @@ -26,11 +26,12 @@ namespace OpenTelemetry.Ex...          low  \n",
       "2  @@ -185,7 +185,7 @@ Blockly.ScratchBlocks.Proc...       medium  \n",
       "3  @@ -273,6 +273,11 @@ class RefactoringChecker(...          low  \n",
       "4  @@ -146,7 +146,9 @@ void ActiveHostsMan::clean...       medium  "
      ],
      "text/html": [
       "<div>\n",
       "<style scoped>\n",
       "    .dataframe tbody tr th:only-of-type {\n",
       "        vertical-align: middle;\n",
       "    }\n",
       "\n",
       "    .dataframe tbody tr th {\n",
       "        vertical-align: top;\n",
       "    }\n",
       "\n",
       "    .dataframe thead th {\n",
       "        text-align: right;\n",
       "    }\n",
       "</style>\n",
       "<table border=\"1\" class=\"dataframe\">\n",
       "  <thead>\n",
       "    <tr style=\"text-align: right;\">\n",
       "      <th></th>\n",
       "      <th>hash</th>\n",
       "      <th>gold</th>\n",
       "      <th>pred</th>\n",
       "      <th>cot</th>\n",
       "      <th>lang</th>\n",
       "      <th>summary</th>\n",
       "      <th>bert_score</th>\n",
       "      <th>patch</th>\n",
       "      <th>bert_quality</th>\n",
       "    </tr>\n",
       "  </thead>\n",
       "  <tbody>\n",
       "    <tr>\n",
       "      <th>0</th>\n",
       "      <td>033b0baff52bb483</td>\n",
       "      <td>If there are no manifests, then entries should...</td>\n",
       "      <td>The change gracefully handles the case where a...</td>\n",
       "      <td>This code change is addressing the case where ...</td>\n",
       "      <td>java</td>\n",
       "      <td>Collect all data files in the manifest.</td>\n",
       "      <td>0.849598</td>\n",
       "      <td>@@ -191,7 +191,10 @@ public class FindFiles {\\...</td>\n",
       "      <td>medium</td>\n",
       "    </tr>\n",
       "    <tr>\n",
       "      <th>1</th>\n",
       "      <td>c1752542d5b833d3</td>\n",
       "      <td>Didn't went with backwards compatibility since...</td>\n",
       "      <td>The log message should include which collector...</td>\n",
       "      <td>Let me analyze the code change:\\n\\n1. The meth...</td>\n",
       "      <td>.cs</td>\n",
       "      <td>FailedToReachCollector - Method failed to reac...</td>\n",
       "      <td>0.830813</td>\n",
       "      <td>@@ -26,11 +26,12 @@ namespace OpenTelemetry.Ex...</td>\n",
       "      <td>low</td>\n",
       "    </tr>\n",
       "    <tr>\n",
       "      <th>2</th>\n",
       "      <td>7dc3d2474c83cca7</td>\n",
       "      <td>Is this actually a lint related change?</td>\n",
       "      <td>The percent sign doesn't need to be escaped in...</td>\n",
       "      <td>In this code diff, a regex pattern is being mo...</td>\n",
       "      <td>js</td>\n",
       "      <td>Creates all inputs of a block and removes all ...</td>\n",
       "      <td>0.855430</td>\n",
       "      <td>@@ -185,7 +185,7 @@ Blockly.ScratchBlocks.Proc...</td>\n",
       "      <td>medium</td>\n",
       "    </tr>\n",
       "    <tr>\n",
       "      <th>3</th>\n",
       "      <td>973d5f8f3c42730f</td>\n",
       "      <td>I don't know if there are strict conventions a...</td>\n",
       "      <td>The message doesn't explain why sys.exit() is ...</td>\n",
       "      <td>I'm looking at a code review request for an ad...</td>\n",
       "      <td>py</td>\n",
       "      <td>Uses the dict constructor a list of transient ...</td>\n",
       "      <td>0.840675</td>\n",
       "      <td>@@ -273,6 +273,11 @@ class RefactoringChecker(...</td>\n",
       "      <td>low</td>\n",
       "    </tr>\n",
       "    <tr>\n",
       "      <th>4</th>\n",
       "      <td>9ef6bf7111827712</td>\n",
       "      <td>what to do if some failed? just logging?</td>\n",
       "      <td>The error message should provide more context ...</td>\n",
       "      <td>The given code shows a change where a `CHECK_E...</td>\n",
       "      <td>cpp</td>\n",
       "      <td>Clean expired hosts. expired hosts to offline ...</td>\n",
       "      <td>0.851026</td>\n",
       "      <td>@@ -146,7 +146,9 @@ void ActiveHostsMan::clean...</td>\n",
       "      <td>medium</td>\n",
       "    </tr>\n",
       "  </tbody>\n",
       "</table>\n",
       "</div>"
      ]
     },
     "execution_count": 65,
     "metadata": {},
     "output_type": "execute_result"
    }
   ],
   "execution_count": 65
  },
  {
   "metadata": {
    "ExecuteTime": {
     "end_time": "2025-04-11T11:24:58.920513Z",
     "start_time": "2025-04-11T11:24:58.918082Z"
    }
   },
   "cell_type": "code",
   "source": [
    "lang_counts = df[\"lang\"].value_counts()\n",
    "print(\"Language distribution in original dataset:\")\n",
    "print(lang_counts)"
   ],
   "id": "4b5c60dcd323b9cd",
   "outputs": [
    {
     "name": "stdout",
     "output_type": "stream",
     "text": [
      "Language distribution in original dataset:\n",
      "lang\n",
      "go      126\n",
      "java     83\n",
      "py       69\n",
      "rb       49\n",
      "js       47\n",
      "cpp      41\n",
      ".cs      40\n",
      "php      24\n",
      "c        21\n",
      "Name: count, dtype: int64\n"
     ]
    }
   ],
   "execution_count": 66
  },
  {
   "metadata": {
    "ExecuteTime": {
     "end_time": "2025-04-11T11:24:59.327827Z",
     "start_time": "2025-04-11T11:24:59.325270Z"
    }
   },
   "cell_type": "code",
   "source": [
    "NUM_EVALUATORS = 5\n",
    "SAMPLES_PER_EVALUATOR = 60\n",
    "TOTAL_ASSIGNMENTS = NUM_EVALUATORS * SAMPLES_PER_EVALUATOR  # 300\n",
    "UNIQUE_SAMPLES_NEEDED = TOTAL_ASSIGNMENTS // 2  # Each sample appears twice\n",
    "\n",
    "RANDOM_SEED = 0\n",
    "\n",
    "LANGUAGES_TO_INCLUDE = [\"go\", \"java\", \"py\", \"js\", \"php\"]\n",
    "\n",
    "import numpy as np\n",
    "import random\n",
    "\n",
    "random.seed(RANDOM_SEED)\n",
    "np.random.seed(RANDOM_SEED)"
   ],
   "id": "4a289439e4ac96d5",
   "outputs": [],
   "execution_count": 67
  },
  {
   "metadata": {
    "ExecuteTime": {
     "end_time": "2025-04-11T11:24:59.932559Z",
     "start_time": "2025-04-11T11:24:59.928774Z"
    }
   },
   "cell_type": "code",
   "source": [
    "if LANGUAGES_TO_INCLUDE:\n",
    "    original_length = len(df)\n",
    "    df = df[df[\"lang\"].isin(LANGUAGES_TO_INCLUDE)]\n",
    "    print(f\"Filtered from {original_length} to {len(df)} samples based on selected languages.\")\n",
    "\n",
    "    # Check if we have enough samples after filtering\n",
    "    if len(df) < UNIQUE_SAMPLES_NEEDED:\n",
    "        print(f\"WARNING: Only {len(df)} samples available after language filtering. \"\n",
    "              f\"Need {UNIQUE_SAMPLES_NEEDED} unique samples.\")"
   ],
   "id": "e70269509c6b220d",
   "outputs": [
    {
     "name": "stdout",
     "output_type": "stream",
     "text": [
      "Filtered from 500 to 349 samples based on selected languages.\n"
     ]
    }
   ],
   "execution_count": 68
  },
  {
   "metadata": {
    "ExecuteTime": {
     "end_time": "2025-04-11T11:25:00.454474Z",
     "start_time": "2025-04-11T11:25:00.448209Z"
    }
   },
   "cell_type": "code",
   "source": [
    "lang_counts = df[\"lang\"].value_counts()\n",
    "print(\"Language distribution in filtered dataset:\")\n",
    "print(lang_counts)"
   ],
   "id": "3737d9f9da6bade2",
   "outputs": [
    {
     "name": "stdout",
     "output_type": "stream",
     "text": [
      "Language distribution in filtered dataset:\n",
      "lang\n",
      "go      126\n",
      "java     83\n",
      "py       69\n",
      "js       47\n",
      "php      24\n",
      "Name: count, dtype: int64\n"
     ]
    }
   ],
   "execution_count": 69
  },
  {
   "metadata": {
    "ExecuteTime": {
     "end_time": "2025-04-11T11:25:01.233745Z",
     "start_time": "2025-04-11T11:25:01.219069Z"
    }
   },
   "cell_type": "code",
   "source": [
    "# Calculate samples needed per combination of language and quality\n",
    "quality_categories = [\"low\", \"medium\", \"high\"]\n",
    "languages = lang_counts.index.tolist()"
   ],
   "id": "5ec57bf48140c901",
   "outputs": [],
   "execution_count": 70
  },
  {
   "metadata": {
    "ExecuteTime": {
     "end_time": "2025-04-11T11:25:02.028196Z",
     "start_time": "2025-04-11T11:25:02.020522Z"
    }
   },
   "cell_type": "code",
   "source": [
    "# Create stratified sampling targets\n",
    "total_samples = len(df)\n",
    "strata_targets = {}\n",
    "\n",
    "# Equal distribution across languages\n",
    "if len(languages) > 0:\n",
    "    samples_per_language = UNIQUE_SAMPLES_NEEDED // len(languages)\n",
    "    remainder = UNIQUE_SAMPLES_NEEDED % len(languages)\n",
    "\n",
    "    # Distribute samples across languages and quality levels\n",
    "    for i, lang in enumerate(languages):\n",
    "        # Add extra samples to first few languages if needed\n",
    "        lang_samples = samples_per_language + (1 if i < remainder else 0)\n",
    "        samples_per_quality = lang_samples // len(quality_categories)\n",
    "        quality_remainder = lang_samples % len(quality_categories)\n",
    "\n",
    "        for j, quality in enumerate(quality_categories):\n",
    "            # Add extra samples to first quality categories if needed\n",
    "            target = samples_per_quality + (1 if j < quality_remainder else 0)\n",
    "\n",
    "            # Count examples in each combination\n",
    "            count_in_strata = len(df[(df[\"lang\"] == lang) & (df[\"bert_quality\"] == quality)])\n",
    "\n",
    "            # Adjust if we don't have enough samples in this combination\n",
    "            if target > count_in_strata:\n",
    "                print(f\"Warning: Not enough samples for lang={lang}, quality={quality}. \"\n",
    "                      f\"Requested {target}, but only have {count_in_strata}.\")\n",
    "                target = count_in_strata\n",
    "\n",
    "            strata_targets[(lang, quality)] = target"
   ],
   "id": "66def9747b3aa2ae",
   "outputs": [
    {
     "name": "stdout",
     "output_type": "stream",
     "text": [
      "Warning: Not enough samples for lang=php, quality=medium. Requested 10, but only have 9.\n",
      "Warning: Not enough samples for lang=php, quality=high. Requested 10, but only have 5.\n"
     ]
    }
   ],
   "execution_count": 71
  },
  {
   "metadata": {
    "ExecuteTime": {
     "end_time": "2025-04-11T11:25:02.729850Z",
     "start_time": "2025-04-11T11:25:02.727116Z"
    }
   },
   "cell_type": "code",
   "source": [
    "print(\"\\nSampling targets by language and quality:\")\n",
    "for (lang, quality), target in strata_targets.items():\n",
    "    print(f\"{lang}-{quality}: {target}\")"
   ],
   "id": "4513f175d3755d98",
   "outputs": [
    {
     "name": "stdout",
     "output_type": "stream",
     "text": [
      "\n",
      "Sampling targets by language and quality:\n",
      "go-low: 10\n",
      "go-medium: 10\n",
      "go-high: 10\n",
      "java-low: 10\n",
      "java-medium: 10\n",
      "java-high: 10\n",
      "py-low: 10\n",
      "py-medium: 10\n",
      "py-high: 10\n",
      "js-low: 10\n",
      "js-medium: 10\n",
      "js-high: 10\n",
      "php-low: 10\n",
      "php-medium: 9\n",
      "php-high: 5\n"
     ]
    }
   ],
   "execution_count": 72
  },
  {
   "metadata": {
    "ExecuteTime": {
     "end_time": "2025-04-11T11:25:03.564369Z",
     "start_time": "2025-04-11T11:25:03.554068Z"
    }
   },
   "cell_type": "code",
   "source": [
    "# Sample from each stratum\n",
    "stratified_samples = []\n",
    "\n",
    "for (lang, quality), target in strata_targets.items():\n",
    "    if target > 0:\n",
    "        stratum = df[(df[\"lang\"] == lang) & (df[\"bert_quality\"] == quality)]\n",
    "        # Sample with replacement if necessary\n",
    "        replace = len(stratum) < target\n",
    "        sampled = stratum.sample(target, random_state=RANDOM_SEED, replace=replace)\n",
    "        stratified_samples.append(sampled)\n",
    "\n",
    "samples = pd.concat(stratified_samples).sample(frac=1, random_state=RANDOM_SEED).reset_index(drop=True)"
   ],
   "id": "b6c4502639a1757a",
   "outputs": [],
   "execution_count": 73
  },
  {
   "metadata": {
    "ExecuteTime": {
     "end_time": "2025-04-11T11:25:08.291523Z",
     "start_time": "2025-04-11T11:25:08.283965Z"
    }
   },
   "cell_type": "code",
   "source": [
    "# If we're short on samples after stratified sampling, get additional samples from the filtered dataset\n",
    "if len(samples) < UNIQUE_SAMPLES_NEEDED:\n",
    "    print(f\"Warning: Only found {len(samples)} unique samples out of {UNIQUE_SAMPLES_NEEDED} needed.\")\n",
    "    additional_needed = UNIQUE_SAMPLES_NEEDED - len(samples)\n",
    "    \n",
    "    # Get samples that haven't been selected yet\n",
    "    already_selected = set(samples.index)\n",
    "    remaining_samples = df[~df.index.isin(already_selected)]\n",
    "    \n",
    "    # If we still have samples available in the filtered dataset\n",
    "    if len(remaining_samples) > 0:\n",
    "        # Take as many additional samples as possible from remaining data\n",
    "        samples_to_add = min(len(remaining_samples), additional_needed)\n",
    "        additional_samples = remaining_samples.sample(samples_to_add, random_state=RANDOM_SEED)\n",
    "        \n",
    "        print(f\"Adding {len(additional_samples)} additional unique samples from the filtered dataset.\")\n",
    "        samples = pd.concat([samples, additional_samples]).reset_index(drop=True)\n",
    "        \n",
    "        remaining_needed = additional_needed - samples_to_add\n",
    "        # If we still need more samples, then we finally resort to repeating\n",
    "        if remaining_needed > 0:\n",
    "            print(f\"Still need {remaining_needed} more samples. Will repeat some existing samples.\")\n",
    "            repeated_samples = samples.sample(remaining_needed, replace=True, random_state=RANDOM_SEED+1)\n",
    "            samples = pd.concat([samples, repeated_samples]).reset_index(drop=True)\n",
    "    else:\n",
    "        # If no remaining samples, we have to repeat\n",
    "        print(f\"No remaining unique samples in filtered dataset. Will repeat {additional_needed} existing samples.\")\n",
    "        additional_samples = samples.sample(additional_needed, replace=True, random_state=RANDOM_SEED)\n",
    "        samples = pd.concat([samples, additional_samples]).reset_index(drop=True)"
   ],
   "id": "87f62a0c9374d359",
   "outputs": [
    {
     "name": "stdout",
     "output_type": "stream",
     "text": [
      "Warning: Only found 144 unique samples out of 150 needed.\n",
      "Adding 6 additional unique samples from the filtered dataset.\n"
     ]
    }
   ],
   "execution_count": 74
  },
  {
   "metadata": {
    "ExecuteTime": {
     "end_time": "2025-04-11T11:25:13.214415Z",
     "start_time": "2025-04-11T11:25:13.203804Z"
    }
   },
   "cell_type": "code",
   "source": [
    "# Check our resulting sample distribution\n",
    "print(\"\\nStratified sample distribution:\")\n",
    "print(f\"Total samples: {len(samples)}\")\n",
    "print(\"\\nBy language:\")\n",
    "print(samples[\"lang\"].value_counts())\n",
    "print(\"\\nBy quality:\")\n",
    "print(samples[\"bert_quality\"].value_counts())\n",
    "print(\"\\nBy language and quality:\")\n",
    "print(pd.crosstab(samples[\"lang\"], samples[\"bert_quality\"]))"
   ],
   "id": "2d773018dd128447",
   "outputs": [
    {
     "name": "stdout",
     "output_type": "stream",
     "text": [
      "\n",
      "Stratified sample distribution:\n",
      "Total samples: 150\n",
      "\n",
      "By language:\n",
      "lang\n",
      "go      32\n",
      "py      32\n",
      "java    31\n",
      "js      30\n",
      "php     25\n",
      "Name: count, dtype: int64\n",
      "\n",
      "By quality:\n",
      "bert_quality\n",
      "medium    52\n",
      "low       51\n",
      "high      47\n",
      "Name: count, dtype: int64\n",
      "\n",
      "By language and quality:\n",
      "bert_quality  high  low  medium\n",
      "lang                           \n",
      "go              10   11      11\n",
      "java            11   10      10\n",
      "js              10   10      10\n",
      "php              5   10      10\n",
      "py              11   10      11\n"
     ]
    }
   ],
   "execution_count": 75
  },
  {
   "metadata": {
    "ExecuteTime": {
     "end_time": "2025-04-11T11:25:20.602998Z",
     "start_time": "2025-04-11T11:25:20.594897Z"
    }
   },
   "cell_type": "code",
   "source": [
    "from collections import defaultdict\n",
    "from itertools import combinations\n",
    "\n",
    "# Assign samples to evaluator pairs\n",
    "evaluator_pairs = list(combinations(range(NUM_EVALUATORS), 2))\n",
    "evaluator_assignments = {e: 0 for e in range(NUM_EVALUATORS)}\n",
    "evaluator_data = defaultdict(list)\n",
    "sample_to_pair = {}\n",
    "\n",
    "# First pass: Assign each sample to a pair of evaluators\n",
    "for idx in samples.index:\n",
    "    # Choose the evaluator pair with the fewest current assignments\n",
    "    pair_loads = [(p, evaluator_assignments[p[0]] + evaluator_assignments[p[1]]) for p in evaluator_pairs]\n",
    "    pair_loads.sort(key=lambda x: x[1])  # Sort by load\n",
    "    eval1, eval2 = pair_loads[0][0]  # Get the pair with lowest load\n",
    "\n",
    "    # Update assignments\n",
    "    row = samples.loc[idx]\n",
    "    evaluator_data[eval1].append(row)\n",
    "    evaluator_data[eval2].append(row)\n",
    "    evaluator_assignments[eval1] += 1\n",
    "    evaluator_assignments[eval2] += 1\n",
    "    sample_to_pair[idx] = (eval1, eval2)\n",
    "\n",
    "# Check if we've got the right number of samples per evaluator\n",
    "for e in range(NUM_EVALUATORS):\n",
    "    print(f\"Evaluator {e + 1} has {evaluator_assignments[e]} samples\")\n",
    "\n",
    "# Balance assignments if needed by redistributing samples\n",
    "MAX_ITERATIONS = 100\n",
    "iteration = 0\n",
    "\n",
    "while (max(evaluator_assignments.values()) - min(evaluator_assignments.values()) > 1 and\n",
    "       iteration < MAX_ITERATIONS):\n",
    "    # Find evaluator with most and least assignments\n",
    "    max_eval = max(evaluator_assignments, key=evaluator_assignments.get)\n",
    "    min_eval = min(evaluator_assignments, key=evaluator_assignments.get)\n",
    "\n",
    "    if evaluator_assignments[max_eval] - evaluator_assignments[min_eval] <= 1:\n",
    "        break\n",
    "\n",
    "    # Find a sample that can be reassigned\n",
    "    for idx, (eval1, eval2) in sample_to_pair.items():\n",
    "        if eval1 == max_eval and eval2 != min_eval:\n",
    "            # Reassign from eval1 to min_eval\n",
    "            sample_to_pair[idx] = (min_eval, eval2)\n",
    "            row = samples.loc[idx]\n",
    "            evaluator_data[eval1].remove(row)\n",
    "            evaluator_data[min_eval].append(row)\n",
    "            evaluator_assignments[eval1] -= 1\n",
    "            evaluator_assignments[min_eval] += 1\n",
    "            break\n",
    "        elif eval2 == max_eval and eval1 != min_eval:\n",
    "            # Reassign from eval2 to min_eval\n",
    "            sample_to_pair[idx] = (eval1, min_eval)\n",
    "            row = samples.loc[idx]\n",
    "            evaluator_data[eval2].remove(row)\n",
    "            evaluator_data[min_eval].append(row)\n",
    "            evaluator_assignments[eval2] -= 1\n",
    "            evaluator_assignments[min_eval] += 1\n",
    "            break\n",
    "\n",
    "    iteration += 1"
   ],
   "id": "6c7eba1d8209603b",
   "outputs": [
    {
     "name": "stdout",
     "output_type": "stream",
     "text": [
      "Evaluator 1 has 60 samples\n",
      "Evaluator 2 has 60 samples\n",
      "Evaluator 3 has 60 samples\n",
      "Evaluator 4 has 60 samples\n",
      "Evaluator 5 has 60 samples\n"
     ]
    }
   ],
   "execution_count": 76
  },
  {
   "metadata": {
    "ExecuteTime": {
     "end_time": "2025-04-11T11:25:35.875662Z",
     "start_time": "2025-04-11T11:25:35.871575Z"
    }
   },
   "cell_type": "code",
   "source": [
    "# Final verification\n",
    "for e in range(NUM_EVALUATORS):\n",
    "    assert len(evaluator_data[\n",
    "                   e]) == SAMPLES_PER_EVALUATOR, f\"Evaluator {e + 1} has {len(evaluator_data[e])} samples instead of {SAMPLES_PER_EVALUATOR}\"\n"
   ],
   "id": "83d0222352090a92",
   "outputs": [],
   "execution_count": 77
  },
  {
   "metadata": {
    "ExecuteTime": {
     "end_time": "2025-04-11T11:51:09.466613Z",
     "start_time": "2025-04-11T11:51:09.429806Z"
    }
   },
   "cell_type": "code",
   "source": [
    "# Create a combined dataset instead of individual files\n",
    "all_evaluator_data = []\n",
    "\n",
    "for evaluator, rows in evaluator_data.items():\n",
    "    df_eval = pd.DataFrame(rows).reset_index(drop=True)\n",
    "    df_eval[\"usefulness\"] = \"\"\n",
    "    df_eval[\"correctness\"] = \"\"\n",
    "    df_eval[\"explanation_quality\"] = \"\"\n",
    "    df_eval[\"evaluator_id\"] = evaluator + 1  # Add evaluator ID (1-indexed)\n",
    "    all_evaluator_data.append(df_eval)\n",
    "\n",
    "# Combine all data into a single dataframe\n",
    "combined_df = pd.concat(all_evaluator_data, ignore_index=True)\n",
    "\n",
    "# Save to a single CSV file\n",
    "combined_df.to_json(\"combined_evaluator_assignments.json\", index=False)\n",
    "\n",
    "print(f\"Combined CSV generated with {len(combined_df)} total assignments across {NUM_EVALUATORS} evaluators.\")\n",
    "combined_df.head()"
   ],
   "id": "a6f8d5a64592b71",
   "outputs": [
    {
     "name": "stdout",
     "output_type": "stream",
     "text": [
      "Combined CSV generated with 300 total assignments across 5 evaluators.\n"
     ]
    },
    {
     "data": {
      "text/plain": [
       "               hash                                               gold  \\\n",
       "0  2d4d2f69752c67c7              nit: error starts with capital letter   \n",
       "1  18ac7eb4ecdbf532  ...and in turn, this should probably be var up...   \n",
       "2  9073a4fd6c2c8180  As far as I can see you're not rollbacking tra...   \n",
       "3  10095e717de6b047  I don't see how removing \"open file bucket\" he...   \n",
       "4  b2f599230d36e5fd  I think you should use `$event->getOriginalFil...   \n",
       "\n",
       "                                                pred  \\\n",
       "0  The regular expression might be too permissive...   \n",
       "1  The variable names are inconsistent: you're us...   \n",
       "2  The use statements should be alphabetically or...   \n",
       "3  The error handling change removes important co...   \n",
       "4  The field names \"IMAGE_WIDH\" and \"ORIGINAL_IMA...   \n",
       "\n",
       "                                                 cot lang  \\\n",
       "0  Let me analyze this code diff:\\n\\n1. They're a...   go   \n",
       "1  This code is modifying the logic for deciding ...   js   \n",
       "2  The code review task is to provide a formal co...  php   \n",
       "3  Looking at the code diff, I need to review the...   go   \n",
       "4  This code adds image dimensions to the results...  php   \n",
       "\n",
       "                                             summary  bert_score  \\\n",
       "0  Validate that the passed in value is a valid  ...    0.816734   \n",
       "1  Block dragged bubble. The function to preview ...    0.841119   \n",
       "2  Creates a transport that processes a single ba...    0.826215   \n",
       "3  Private functions - functions escape returns a...    0.882879   \n",
       "4  Parse loop result and create ImageEvent object...    0.823867   \n",
       "\n",
       "                                               patch bert_quality usefulness  \\\n",
       "0  @@ -13,12 +13,15 @@ import (\\n )\\n \\n var (\\n-...          low              \n",
       "1  @@ -1025,7 +1025,9 @@ Blockly.BlockSvg.prototy...          low              \n",
       "2  @@ -16,6 +16,11 @@ use Ergonode\\BatchAction\\Do...          low              \n",
       "3  @@ -86,10 +86,10 @@ func openBucket(dir string...         high              \n",
       "4  @@ -361,11 +361,19 @@ class Image extends Base...          low              \n",
       "\n",
       "  correctness explanation_quality  evaluator_id  \n",
       "0                                             1  \n",
       "1                                             1  \n",
       "2                                             1  \n",
       "3                                             1  \n",
       "4                                             1  "
      ],
      "text/html": [
       "<div>\n",
       "<style scoped>\n",
       "    .dataframe tbody tr th:only-of-type {\n",
       "        vertical-align: middle;\n",
       "    }\n",
       "\n",
       "    .dataframe tbody tr th {\n",
       "        vertical-align: top;\n",
       "    }\n",
       "\n",
       "    .dataframe thead th {\n",
       "        text-align: right;\n",
       "    }\n",
       "</style>\n",
       "<table border=\"1\" class=\"dataframe\">\n",
       "  <thead>\n",
       "    <tr style=\"text-align: right;\">\n",
       "      <th></th>\n",
       "      <th>hash</th>\n",
       "      <th>gold</th>\n",
       "      <th>pred</th>\n",
       "      <th>cot</th>\n",
       "      <th>lang</th>\n",
       "      <th>summary</th>\n",
       "      <th>bert_score</th>\n",
       "      <th>patch</th>\n",
       "      <th>bert_quality</th>\n",
       "      <th>usefulness</th>\n",
       "      <th>correctness</th>\n",
       "      <th>explanation_quality</th>\n",
       "      <th>evaluator_id</th>\n",
       "    </tr>\n",
       "  </thead>\n",
       "  <tbody>\n",
       "    <tr>\n",
       "      <th>0</th>\n",
       "      <td>2d4d2f69752c67c7</td>\n",
       "      <td>nit: error starts with capital letter</td>\n",
       "      <td>The regular expression might be too permissive...</td>\n",
       "      <td>Let me analyze this code diff:\\n\\n1. They're a...</td>\n",
       "      <td>go</td>\n",
       "      <td>Validate that the passed in value is a valid  ...</td>\n",
       "      <td>0.816734</td>\n",
       "      <td>@@ -13,12 +13,15 @@ import (\\n )\\n \\n var (\\n-...</td>\n",
       "      <td>low</td>\n",
       "      <td></td>\n",
       "      <td></td>\n",
       "      <td></td>\n",
       "      <td>1</td>\n",
       "    </tr>\n",
       "    <tr>\n",
       "      <th>1</th>\n",
       "      <td>18ac7eb4ecdbf532</td>\n",
       "      <td>...and in turn, this should probably be var up...</td>\n",
       "      <td>The variable names are inconsistent: you're us...</td>\n",
       "      <td>This code is modifying the logic for deciding ...</td>\n",
       "      <td>js</td>\n",
       "      <td>Block dragged bubble. The function to preview ...</td>\n",
       "      <td>0.841119</td>\n",
       "      <td>@@ -1025,7 +1025,9 @@ Blockly.BlockSvg.prototy...</td>\n",
       "      <td>low</td>\n",
       "      <td></td>\n",
       "      <td></td>\n",
       "      <td></td>\n",
       "      <td>1</td>\n",
       "    </tr>\n",
       "    <tr>\n",
       "      <th>2</th>\n",
       "      <td>9073a4fd6c2c8180</td>\n",
       "      <td>As far as I can see you're not rollbacking tra...</td>\n",
       "      <td>The use statements should be alphabetically or...</td>\n",
       "      <td>The code review task is to provide a formal co...</td>\n",
       "      <td>php</td>\n",
       "      <td>Creates a transport that processes a single ba...</td>\n",
       "      <td>0.826215</td>\n",
       "      <td>@@ -16,6 +16,11 @@ use Ergonode\\BatchAction\\Do...</td>\n",
       "      <td>low</td>\n",
       "      <td></td>\n",
       "      <td></td>\n",
       "      <td></td>\n",
       "      <td>1</td>\n",
       "    </tr>\n",
       "    <tr>\n",
       "      <th>3</th>\n",
       "      <td>10095e717de6b047</td>\n",
       "      <td>I don't see how removing \"open file bucket\" he...</td>\n",
       "      <td>The error handling change removes important co...</td>\n",
       "      <td>Looking at the code diff, I need to review the...</td>\n",
       "      <td>go</td>\n",
       "      <td>Private functions - functions escape returns a...</td>\n",
       "      <td>0.882879</td>\n",
       "      <td>@@ -86,10 +86,10 @@ func openBucket(dir string...</td>\n",
       "      <td>high</td>\n",
       "      <td></td>\n",
       "      <td></td>\n",
       "      <td></td>\n",
       "      <td>1</td>\n",
       "    </tr>\n",
       "    <tr>\n",
       "      <th>4</th>\n",
       "      <td>b2f599230d36e5fd</td>\n",
       "      <td>I think you should use `$event-&gt;getOriginalFil...</td>\n",
       "      <td>The field names \"IMAGE_WIDH\" and \"ORIGINAL_IMA...</td>\n",
       "      <td>This code adds image dimensions to the results...</td>\n",
       "      <td>php</td>\n",
       "      <td>Parse loop result and create ImageEvent object...</td>\n",
       "      <td>0.823867</td>\n",
       "      <td>@@ -361,11 +361,19 @@ class Image extends Base...</td>\n",
       "      <td>low</td>\n",
       "      <td></td>\n",
       "      <td></td>\n",
       "      <td></td>\n",
       "      <td>1</td>\n",
       "    </tr>\n",
       "  </tbody>\n",
       "</table>\n",
       "</div>"
      ]
     },
     "execution_count": 90,
     "metadata": {},
     "output_type": "execute_result"
    }
   ],
   "execution_count": 90
  },
  {
   "metadata": {
    "ExecuteTime": {
     "end_time": "2025-04-11T11:51:19.716433Z",
     "start_time": "2025-04-11T11:51:19.697586Z"
    }
   },
   "cell_type": "code",
   "source": [
    "print(\"\\nDistribution analysis by evaluator:\")\n",
    "for e in range(NUM_EVALUATORS):\n",
    "    evaluator_df = pd.DataFrame(evaluator_data[e])\n",
    "    print(f\"\\nEvaluator {e + 1}:\")\n",
    "    print(\"Languages:\")\n",
    "    print(evaluator_df[\"lang\"].value_counts())\n",
    "    print(\"Quality:\")\n",
    "    print(evaluator_df[\"bert_quality\"].value_counts())"
   ],
   "id": "2aaf36ee3e340a16",
   "outputs": [
    {
     "name": "stdout",
     "output_type": "stream",
     "text": [
      "\n",
      "Distribution analysis by evaluator:\n",
      "\n",
      "Evaluator 1:\n",
      "Languages:\n",
      "lang\n",
      "java    14\n",
      "js      13\n",
      "py      13\n",
      "go      11\n",
      "php      9\n",
      "Name: count, dtype: int64\n",
      "Quality:\n",
      "bert_quality\n",
      "low       26\n",
      "medium    18\n",
      "high      16\n",
      "Name: count, dtype: int64\n",
      "\n",
      "Evaluator 2:\n",
      "Languages:\n",
      "lang\n",
      "js      17\n",
      "php     13\n",
      "java    11\n",
      "go      10\n",
      "py       9\n",
      "Name: count, dtype: int64\n",
      "Quality:\n",
      "bert_quality\n",
      "low       23\n",
      "medium    22\n",
      "high      15\n",
      "Name: count, dtype: int64\n",
      "\n",
      "Evaluator 3:\n",
      "Languages:\n",
      "lang\n",
      "py      14\n",
      "php     13\n",
      "go      12\n",
      "js      11\n",
      "java    10\n",
      "Name: count, dtype: int64\n",
      "Quality:\n",
      "bert_quality\n",
      "medium    23\n",
      "high      20\n",
      "low       17\n",
      "Name: count, dtype: int64\n",
      "\n",
      "Evaluator 4:\n",
      "Languages:\n",
      "lang\n",
      "py      17\n",
      "go      15\n",
      "java    12\n",
      "js       8\n",
      "php      8\n",
      "Name: count, dtype: int64\n",
      "Quality:\n",
      "bert_quality\n",
      "high      23\n",
      "medium    21\n",
      "low       16\n",
      "Name: count, dtype: int64\n",
      "\n",
      "Evaluator 5:\n",
      "Languages:\n",
      "lang\n",
      "go      16\n",
      "java    15\n",
      "js      11\n",
      "py      11\n",
      "php      7\n",
      "Name: count, dtype: int64\n",
      "Quality:\n",
      "bert_quality\n",
      "low       20\n",
      "high      20\n",
      "medium    20\n",
      "Name: count, dtype: int64\n"
     ]
    }
   ],
   "execution_count": 91
  },
  {
   "metadata": {},
   "cell_type": "code",
   "outputs": [],
   "execution_count": null,
   "source": "",
   "id": "b98088b2bec4b2ff"
  }
 ],
 "metadata": {
  "kernelspec": {
   "display_name": "Python 3",
   "language": "python",
   "name": "python3"
  },
  "language_info": {
   "codemirror_mode": {
    "name": "ipython",
    "version": 2
   },
   "file_extension": ".py",
   "mimetype": "text/x-python",
   "name": "python",
   "nbconvert_exporter": "python",
   "pygments_lexer": "ipython2",
   "version": "2.7.6"
  }
 },
 "nbformat": 4,
 "nbformat_minor": 5
}
